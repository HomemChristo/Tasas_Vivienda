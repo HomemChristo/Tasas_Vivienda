{
 "cells": [
  {
   "cell_type": "markdown",
   "metadata": {},
   "source": [
    "# **Preparacion de los datos**"
   ]
  },
  {
   "cell_type": "code",
   "execution_count": 3,
   "metadata": {},
   "outputs": [],
   "source": [
    "# Importamos las bibliotecas generales\n",
    "import pandas as pd\n",
    "import sklearn\n",
    "import matplotlib.pyplot as plt"
   ]
  },
  {
   "cell_type": "code",
   "execution_count": 4,
   "metadata": {},
   "outputs": [
    {
     "name": "stdout",
     "output_type": "stream",
     "text": [
      "   Tipo_Entidad           Nombre_Tipo_Entidad  Codigo_Entidad  \\\n",
      "0            22  INSTITUCIÓN OFICIAL ESPECIAL               8   \n",
      "1             1   BC-ESTABLECIMIENTO BANCARIO               1   \n",
      "2             1   BC-ESTABLECIMIENTO BANCARIO               7   \n",
      "3             1   BC-ESTABLECIMIENTO BANCARIO               1   \n",
      "4             1   BC-ESTABLECIMIENTO BANCARIO              13   \n",
      "\n",
      "              Nombre_Entidad Fecha_Corte Tipo_de_persona       Sexo  \\\n",
      "0  Fondo Nacional del Ahorro  27/10/2023         Natural  Masculino   \n",
      "1            Banco de Bogotá  17/11/2023         Natural  Masculino   \n",
      "2                Bancolombia  13/10/2023         Natural   Femenino   \n",
      "3            Banco de Bogotá  08/09/2023         Natural   Femenino   \n",
      "4              BBVA Colombia  21/07/2023         Natural   Femenino   \n",
      "\n",
      "  Tamaño_de_empresa Tipo_de_crédito             Tipo_de_garantía  ...  \\\n",
      "0         No aplica        Vivienda  Garantia idónea o no idónea  ...   \n",
      "1         No aplica        Vivienda  Garantia idónea o no idónea  ...   \n",
      "2         No aplica        Vivienda  Garantia idónea o no idónea  ...   \n",
      "3         No aplica        Vivienda  Garantia idónea o no idónea  ...   \n",
      "4         No aplica        Vivienda  Garantia idónea o no idónea  ...   \n",
      "\n",
      "  margen_adicional Montos_desembolsados  Numero_de_creditos_desembolsados  \\\n",
      "0              0.0           50539354.0                                 1   \n",
      "1              0.0           83953304.0                                 1   \n",
      "2              0.0           36489064.0                                 1   \n",
      "3              0.0          587105406.0                                15   \n",
      "4              0.0          750192615.0                                14   \n",
      "\n",
      "          Grupo_Etnico  Antiguedad_de_la_empresa  Tipo_de_Tasa  \\\n",
      "0  Sin información (1)              No aplica(1)            FS   \n",
      "1  Sin información (1)              No aplica(1)            FS   \n",
      "2  Sin información (1)              No aplica(1)            FS   \n",
      "3                  NaN                       NaN           NaN   \n",
      "4                  NaN                       NaN           NaN   \n",
      "\n",
      "  Rango_monto_desembolsado                Clase_deudor Codigo_CIIU  \\\n",
      "0          Hasta 135 SMLMV  Deudor nuevo en la entidad        10.0   \n",
      "1          Hasta 135 SMLMV        Deudor de la entidad        10.0   \n",
      "2          Hasta 135 SMLMV        Deudor de la entidad      4755.0   \n",
      "3                      NaN                         NaN         NaN   \n",
      "4                      NaN                         NaN         NaN   \n",
      "\n",
      "  Codigo_Municipio  \n",
      "0          52001.0  \n",
      "1          25175.0  \n",
      "2          41359.0  \n",
      "3              NaN  \n",
      "4              NaN  \n",
      "\n",
      "[5 rows x 23 columns]\n"
     ]
    }
   ],
   "source": [
    "# Cargamos los datos del dataframe de pandas\n",
    "dt_raw = pd.read_csv('../data/raw/TasasCreditoVivienda.csv')\n",
    "\n",
    "# Imprimimos un encabezado con los primeros 5 registros\n",
    "print(dt_raw.head(5))"
   ]
  },
  {
   "cell_type": "code",
   "execution_count": 10,
   "metadata": {},
   "outputs": [
    {
     "name": "stdout",
     "output_type": "stream",
     "text": [
      "            Nombre_Tipo_Entidad             Nombre_Entidad Tipo_de_persona  \\\n",
      "0  INSTITUCIÓN OFICIAL ESPECIAL  Fondo Nacional del Ahorro         Natural   \n",
      "1   BC-ESTABLECIMIENTO BANCARIO            Banco de Bogotá         Natural   \n",
      "2   BC-ESTABLECIMIENTO BANCARIO                Bancolombia         Natural   \n",
      "3   BC-ESTABLECIMIENTO BANCARIO            Banco de Bogotá         Natural   \n",
      "4   BC-ESTABLECIMIENTO BANCARIO              BBVA Colombia         Natural   \n",
      "\n",
      "        Sexo                                Producto de crédito  \\\n",
      "0  Masculino  Adquisición de vivienda vis (colocación en pesos)   \n",
      "1  Masculino  Adquisición de vivienda vis (colocación en pesos)   \n",
      "2   Femenino    Adquisición de vivienda vis (colocación en uvr)   \n",
      "3   Femenino  Adquisición de vivienda vis (colocación en pesos)   \n",
      "4   Femenino  Adquisición de vivienda vis (colocación en pesos)   \n",
      "\n",
      "                 Plazo de crédito  Tasa_efectiva_promedio_ponderada  \\\n",
      "0  Más de 15 años y hasta 20 años                              8.30   \n",
      "1  Más de 15 años y hasta 20 años                             15.12   \n",
      "2                A más de 20 años                              8.80   \n",
      "3   Más de 7 años y hasta 15 años                             15.02   \n",
      "4   Más de 7 años y hasta 15 años                             14.29   \n",
      "\n",
      "   Montos_desembolsados  Numero_de_creditos_desembolsados  \\\n",
      "0            50539354.0                                 1   \n",
      "1            83953304.0                                 1   \n",
      "2            36489064.0                                 1   \n",
      "3           587105406.0                                15   \n",
      "4           750192615.0                                14   \n",
      "\n",
      "          Grupo_Etnico Tipo_de_Tasa Rango_monto_desembolsado  \\\n",
      "0  Sin información (1)           FS          Hasta 135 SMLMV   \n",
      "1  Sin información (1)           FS          Hasta 135 SMLMV   \n",
      "2  Sin información (1)           FS          Hasta 135 SMLMV   \n",
      "3                  NaN          NaN                      NaN   \n",
      "4                  NaN          NaN                      NaN   \n",
      "\n",
      "                 Clase_deudor  \n",
      "0  Deudor nuevo en la entidad  \n",
      "1        Deudor de la entidad  \n",
      "2        Deudor de la entidad  \n",
      "3                         NaN  \n",
      "4                         NaN  \n"
     ]
    }
   ],
   "source": [
    "# Guardamos nuestro dataset sin las columnas que no presentan informacion relevante para nuestro proyecto\n",
    "dt_processed = dt_raw.drop(['Tipo_Entidad','Codigo_Entidad','Fecha_Corte', 'Tamaño_de_empresa', 'Tipo_de_garantía', 'margen_adicional', 'Tipo_de_crédito','Antiguedad_de_la_empresa','Codigo_CIIU','Codigo_Municipio'], axis=1)\n",
    "\n",
    "print(dt_processed.head(5))"
   ]
  },
  {
   "cell_type": "code",
   "execution_count": null,
   "metadata": {},
   "outputs": [],
   "source": []
  }
 ],
 "metadata": {
  "kernelspec": {
   "display_name": "Python 3",
   "language": "python",
   "name": "python3"
  },
  "language_info": {
   "codemirror_mode": {
    "name": "ipython",
    "version": 3
   },
   "file_extension": ".py",
   "mimetype": "text/x-python",
   "name": "python",
   "nbconvert_exporter": "python",
   "pygments_lexer": "ipython3",
   "version": "3.11.3"
  }
 },
 "nbformat": 4,
 "nbformat_minor": 2
}
