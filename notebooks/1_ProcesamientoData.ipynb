{
 "cells": [
  {
   "cell_type": "markdown",
   "metadata": {},
   "source": [
    "# **Preparacion de los datos**"
   ]
  },
  {
   "cell_type": "markdown",
   "metadata": {},
   "source": [
    "Importamos las bibliotecas generales"
   ]
  },
  {
   "cell_type": "code",
   "execution_count": 9,
   "metadata": {},
   "outputs": [],
   "source": [
    "import pandas as pd\n",
    "import os"
   ]
  },
  {
   "cell_type": "markdown",
   "metadata": {},
   "source": [
    "Cargamos los datos del dataframe de pandas e imprimimos un encabezado con los primeros 5 registros"
   ]
  },
  {
   "cell_type": "code",
   "execution_count": 10,
   "metadata": {},
   "outputs": [
    {
     "data": {
      "text/plain": [
       "Tipo_Entidad                          int64\n",
       "Nombre_Tipo_Entidad                  object\n",
       "Codigo_Entidad                        int64\n",
       "Nombre_Entidad                       object\n",
       "Fecha_Corte                          object\n",
       "Tipo_de_persona                      object\n",
       "Sexo                                 object\n",
       "Tamaño_de_empresa                    object\n",
       "Tipo_de_crédito                      object\n",
       "Tipo_de_garantía                     object\n",
       "Producto de crédito                  object\n",
       "Plazo de crédito                     object\n",
       "Tasa_efectiva_promedio_ponderada    float64\n",
       "margen_adicional                    float64\n",
       "Montos_desembolsados                float64\n",
       "Numero_de_creditos_desembolsados      int64\n",
       "Grupo_Etnico                         object\n",
       "Antiguedad_de_la_empresa             object\n",
       "Tipo_de_Tasa                         object\n",
       "Rango_monto_desembolsado             object\n",
       "Clase_deudor                         object\n",
       "Codigo_CIIU                         float64\n",
       "Codigo_Municipio                    float64\n",
       "dtype: object"
      ]
     },
     "execution_count": 10,
     "metadata": {},
     "output_type": "execute_result"
    }
   ],
   "source": [
    "df_raw = pd.read_csv('../data/raw/TasasCreditoVivienda.csv')\n",
    "\n",
    "df_raw.dtypes"
   ]
  },
  {
   "cell_type": "markdown",
   "metadata": {},
   "source": [
    "Guardamos nuestro dataset sin las columnas que no presentan informacion relevante para nuestro proyecto"
   ]
  },
  {
   "cell_type": "code",
   "execution_count": 11,
   "metadata": {},
   "outputs": [
    {
     "name": "stderr",
     "output_type": "stream",
     "text": [
      "C:\\Users\\Jhoan\\AppData\\Local\\Temp\\ipykernel_24692\\2984903529.py:2: UserWarning: Parsing dates in %d/%m/%Y format when dayfirst=False (the default) was specified. Pass `dayfirst=True` or specify a format to silence this warning.\n",
      "  df_processed['Fecha_Corte'] = pd.to_datetime(df_processed['Fecha_Corte'])\n"
     ]
    },
    {
     "data": {
      "text/plain": [
       "Nombre_Tipo_Entidad                         object\n",
       "Nombre_Entidad                              object\n",
       "Fecha_Corte                         datetime64[ns]\n",
       "Sexo                                        object\n",
       "Producto de crédito                         object\n",
       "Plazo de crédito                            object\n",
       "Tasa_efectiva_promedio_ponderada           float64\n",
       "Montos_desembolsados                       float64\n",
       "Numero_de_creditos_desembolsados             int64\n",
       "Tipo_de_Tasa                                object\n",
       "Rango_monto_desembolsado                    object\n",
       "Clase_deudor                                object\n",
       "dtype: object"
      ]
     },
     "execution_count": 11,
     "metadata": {},
     "output_type": "execute_result"
    }
   ],
   "source": [
    "df_processed = df_raw.drop(['Tipo_Entidad','Codigo_Entidad', 'Tamaño_de_empresa', 'Tipo_de_garantía', 'margen_adicional', 'Tipo_de_crédito','Antiguedad_de_la_empresa','Codigo_CIIU','Codigo_Municipio','Grupo_Etnico','Tipo_de_persona'], axis=1)\n",
    "df_processed['Fecha_Corte'] = pd.to_datetime(df_processed['Fecha_Corte'])\n",
    "df_processed.dtypes"
   ]
  },
  {
   "cell_type": "markdown",
   "metadata": {},
   "source": [
    "Corroboramos que tipo de informacion tenemos, para luego realizar un describe de las columnas que contienen datos cuantitativos para poder darnos una mejor idea de la información que esteremos manejando"
   ]
  },
  {
   "cell_type": "code",
   "execution_count": 12,
   "metadata": {},
   "outputs": [
    {
     "name": "stdout",
     "output_type": "stream",
     "text": [
      "                         Fecha_Corte  Tasa_efectiva_promedio_ponderada  \\\n",
      "count                          54242                      54242.000000   \n",
      "mean   2023-10-11 04:34:36.560599040                         14.719350   \n",
      "min              2023-01-13 00:00:00                          0.000000   \n",
      "25%              2023-09-29 00:00:00                         13.250000   \n",
      "50%              2023-11-03 00:00:00                         16.000000   \n",
      "75%              2023-12-08 00:00:00                         17.910000   \n",
      "max              2024-01-05 00:00:00                         25.720000   \n",
      "std                              NaN                          4.540355   \n",
      "\n",
      "       Montos_desembolsados  Numero_de_creditos_desembolsados  \n",
      "count          5.424200e+04                      54242.000000  \n",
      "mean           3.884510e+08                          3.500147  \n",
      "min            1.000000e+05                          1.000000  \n",
      "25%            7.000000e+07                          1.000000  \n",
      "50%            1.200000e+08                          1.000000  \n",
      "75%            2.500000e+08                          2.000000  \n",
      "max            6.383443e+10                       1022.000000  \n",
      "std            1.288275e+09                         14.472983  \n"
     ]
    }
   ],
   "source": [
    "df = pd.DataFrame(df_processed)\n",
    "print(df.describe())"
   ]
  },
  {
   "cell_type": "markdown",
   "metadata": {},
   "source": [
    "Una vez verificada toda la data procedemos a guardar nuestro conjunto de datos procesado en el directorio correspondiente"
   ]
  },
  {
   "cell_type": "code",
   "execution_count": 13,
   "metadata": {},
   "outputs": [
    {
     "data": {
      "text/plain": [
       "'c:\\\\Users\\\\Jhoan\\\\Documents\\\\Cursos\\\\Platzi\\\\Data Science\\\\Proyectos Data Science\\\\TasasCreditoVivienda\\\\notebooks'"
      ]
     },
     "execution_count": 13,
     "metadata": {},
     "output_type": "execute_result"
    }
   ],
   "source": [
    "os.getcwd()"
   ]
  },
  {
   "cell_type": "code",
   "execution_count": 14,
   "metadata": {},
   "outputs": [],
   "source": [
    "df.to_csv('../data/processed/TasasCreditoViviendaClean.csv', index= None)"
   ]
  },
  {
   "cell_type": "code",
   "execution_count": null,
   "metadata": {},
   "outputs": [],
   "source": []
  }
 ],
 "metadata": {
  "kernelspec": {
   "display_name": "Python 3",
   "language": "python",
   "name": "python3"
  },
  "language_info": {
   "codemirror_mode": {
    "name": "ipython",
    "version": 3
   },
   "file_extension": ".py",
   "mimetype": "text/x-python",
   "name": "python",
   "nbconvert_exporter": "python",
   "pygments_lexer": "ipython3",
   "version": "3.11.3"
  }
 },
 "nbformat": 4,
 "nbformat_minor": 2
}
