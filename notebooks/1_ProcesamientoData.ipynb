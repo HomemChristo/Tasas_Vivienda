{
 "cells": [
  {
   "cell_type": "markdown",
   "metadata": {},
   "source": [
    "# **Preparacion de los datos**"
   ]
  },
  {
   "cell_type": "markdown",
   "metadata": {},
   "source": [
    "Importamos las bibliotecas generales"
   ]
  },
  {
   "cell_type": "code",
   "execution_count": 51,
   "metadata": {},
   "outputs": [],
   "source": [
    "import pandas as pd\n",
    "import os"
   ]
  },
  {
   "cell_type": "markdown",
   "metadata": {},
   "source": [
    "Cargamos los datos del dataframe de pandas y revisamos las categorias que contiene el dataset"
   ]
  },
  {
   "cell_type": "code",
   "execution_count": 52,
   "metadata": {},
   "outputs": [
    {
     "data": {
      "text/plain": [
       "Tipo_Entidad                          int64\n",
       "Nombre_Tipo_Entidad                  object\n",
       "Codigo_Entidad                        int64\n",
       "Nombre_Entidad                       object\n",
       "Fecha_Corte                          object\n",
       "Tipo_de_persona                      object\n",
       "Sexo                                 object\n",
       "Tamaño_de_empresa                    object\n",
       "Tipo_de_crédito                      object\n",
       "Tipo_de_garantía                     object\n",
       "Producto de crédito                  object\n",
       "Plazo de crédito                     object\n",
       "Tasa_efectiva_promedio_ponderada    float64\n",
       "margen_adicional                    float64\n",
       "Montos_desembolsados                float64\n",
       "Numero_de_creditos_desembolsados      int64\n",
       "Grupo_Etnico                         object\n",
       "Antiguedad_de_la_empresa             object\n",
       "Tipo_de_Tasa                         object\n",
       "Rango_monto_desembolsado             object\n",
       "Clase_deudor                         object\n",
       "Codigo_CIIU                         float64\n",
       "Codigo_Municipio                    float64\n",
       "dtype: object"
      ]
     },
     "execution_count": 52,
     "metadata": {},
     "output_type": "execute_result"
    }
   ],
   "source": [
    "df_raw = pd.read_csv('../data/raw/TasasCreditoVivienda.csv')\n",
    "\n",
    "df_raw.dtypes"
   ]
  },
  {
   "cell_type": "markdown",
   "metadata": {},
   "source": [
    "Guardamos nuestro dataset sin las columnas que no presentan informacion relevante para nuestro proyecto"
   ]
  },
  {
   "cell_type": "code",
   "execution_count": 53,
   "metadata": {},
   "outputs": [
    {
     "data": {
      "text/plain": [
       "Nombre_Tipo_Entidad                  object\n",
       "Nombre_Entidad                       object\n",
       "Sexo                                 object\n",
       "Producto de crédito                  object\n",
       "Plazo de crédito                     object\n",
       "Tasa_efectiva_promedio_ponderada    float64\n",
       "Montos_desembolsados                float64\n",
       "Numero_de_creditos_desembolsados      int64\n",
       "Rango_monto_desembolsado             object\n",
       "Clase_deudor                         object\n",
       "dtype: object"
      ]
     },
     "execution_count": 53,
     "metadata": {},
     "output_type": "execute_result"
    }
   ],
   "source": [
    "df_processed = df_raw.drop(['Tipo_Entidad','Codigo_Entidad', 'Tamaño_de_empresa', 'Tipo_de_garantía', 'margen_adicional', 'Tipo_de_crédito','Antiguedad_de_la_empresa','Codigo_CIIU','Codigo_Municipio','Grupo_Etnico','Tipo_de_persona', 'Fecha_Corte','Tipo_de_Tasa'], axis=1)\n",
    "df_processed.dtypes"
   ]
  },
  {
   "cell_type": "markdown",
   "metadata": {},
   "source": [
    "Eliminaremos tambien las filas que contengan creditos de tipo construccion, ya que el objetivo de este projecto esta enfocado en la adquisicion de vivienda."
   ]
  },
  {
   "cell_type": "code",
   "execution_count": 54,
   "metadata": {},
   "outputs": [],
   "source": [
    "df_processed.drop(df_processed[df_processed['Producto de crédito'] == 'Construcción de vivienda individual no vis (colocación en pesos)'].index, inplace=True)\n",
    "df_processed.drop(df_processed[df_processed['Producto de crédito'] == 'Construcción de vivienda individual no vis (colocación en uvr)'].index, inplace=True)\n",
    "df_processed.drop(df_processed[df_processed['Producto de crédito'] == 'Construcción de vivienda individual vis (colocación en uvr)'].index, inplace=True)\n",
    "df_processed.drop(df_processed[df_processed['Producto de crédito'] == 'Construcción de vivienda individual vis (colocación en pesos)'].index, inplace=True)\n",
    "\n"
   ]
  },
  {
   "cell_type": "markdown",
   "metadata": {},
   "source": [
    "Verificamos la cantidad de valores nulos que tenemos en nuestro dataset"
   ]
  },
  {
   "cell_type": "code",
   "execution_count": 55,
   "metadata": {},
   "outputs": [
    {
     "data": {
      "text/plain": [
       "Nombre_Tipo_Entidad                     0\n",
       "Nombre_Entidad                          0\n",
       "Sexo                                    0\n",
       "Producto de crédito                     0\n",
       "Plazo de crédito                        0\n",
       "Tasa_efectiva_promedio_ponderada        0\n",
       "Montos_desembolsados                    0\n",
       "Numero_de_creditos_desembolsados        0\n",
       "Rango_monto_desembolsado            10395\n",
       "Clase_deudor                        10395\n",
       "dtype: int64"
      ]
     },
     "execution_count": 55,
     "metadata": {},
     "output_type": "execute_result"
    }
   ],
   "source": [
    "df_processed.isnull().sum()"
   ]
  },
  {
   "cell_type": "markdown",
   "metadata": {},
   "source": [
    "Como podemos observar, existen la misma cantidad de valores nulos en tres de nuestras columnas, por lo que resulta necesario eliminar estas filas ya que no poseen informacion valiosa para nuestro proyecto"
   ]
  },
  {
   "cell_type": "code",
   "execution_count": 56,
   "metadata": {},
   "outputs": [
    {
     "data": {
      "text/plain": [
       "Nombre_Tipo_Entidad                 0\n",
       "Nombre_Entidad                      0\n",
       "Sexo                                0\n",
       "Producto de crédito                 0\n",
       "Plazo de crédito                    0\n",
       "Tasa_efectiva_promedio_ponderada    0\n",
       "Montos_desembolsados                0\n",
       "Numero_de_creditos_desembolsados    0\n",
       "Rango_monto_desembolsado            0\n",
       "Clase_deudor                        0\n",
       "dtype: int64"
      ]
     },
     "execution_count": 56,
     "metadata": {},
     "output_type": "execute_result"
    }
   ],
   "source": [
    "df_processed.dropna(inplace=True)\n",
    "df_processed.isnull().sum()"
   ]
  },
  {
   "cell_type": "markdown",
   "metadata": {},
   "source": [
    "Corroboramos que tipo de informacion tenemos, para luego realizar un describe de las columnas que contienen datos cuantitativos para poder darnos una mejor idea de la información que esteremos manejando"
   ]
  },
  {
   "cell_type": "code",
   "execution_count": 57,
   "metadata": {},
   "outputs": [
    {
     "name": "stdout",
     "output_type": "stream",
     "text": [
      "       Tasa_efectiva_promedio_ponderada  Montos_desembolsados  \\\n",
      "count                      42283.000000          4.228300e+04   \n",
      "mean                          14.066161          1.731545e+08   \n",
      "std                            4.375451          2.470808e+08   \n",
      "min                            0.000000          2.313090e+05   \n",
      "25%                           11.000000          6.465234e+07   \n",
      "50%                           14.780000          1.081420e+08   \n",
      "75%                           17.550000          2.000000e+08   \n",
      "max                           24.030000          8.956500e+09   \n",
      "\n",
      "       Numero_de_creditos_desembolsados  \n",
      "count                      42283.000000  \n",
      "mean                           1.597427  \n",
      "std                            2.475830  \n",
      "min                            1.000000  \n",
      "25%                            1.000000  \n",
      "50%                            1.000000  \n",
      "75%                            1.000000  \n",
      "max                           88.000000  \n"
     ]
    }
   ],
   "source": [
    "df = pd.DataFrame(df_processed)\n",
    "print(df.describe())"
   ]
  },
  {
   "cell_type": "markdown",
   "metadata": {},
   "source": [
    "Una vez verificada toda la data procedemos a guardar nuestro conjunto de datos procesado en el directorio correspondiente"
   ]
  },
  {
   "cell_type": "code",
   "execution_count": 58,
   "metadata": {},
   "outputs": [
    {
     "data": {
      "text/plain": [
       "'c:\\\\Users\\\\Jhoan\\\\Documents\\\\Cursos\\\\Platzi\\\\Data Science\\\\Proyectos Data Science\\\\TasasCreditoVivienda\\\\notebooks'"
      ]
     },
     "execution_count": 58,
     "metadata": {},
     "output_type": "execute_result"
    }
   ],
   "source": [
    "os.getcwd()"
   ]
  },
  {
   "cell_type": "code",
   "execution_count": 59,
   "metadata": {},
   "outputs": [],
   "source": [
    "df.to_csv('../data/processed/TasasCreditoViviendaClean.csv', index= None)"
   ]
  },
  {
   "cell_type": "code",
   "execution_count": null,
   "metadata": {},
   "outputs": [],
   "source": []
  }
 ],
 "metadata": {
  "kernelspec": {
   "display_name": "Python 3",
   "language": "python",
   "name": "python3"
  },
  "language_info": {
   "codemirror_mode": {
    "name": "ipython",
    "version": 3
   },
   "file_extension": ".py",
   "mimetype": "text/x-python",
   "name": "python",
   "nbconvert_exporter": "python",
   "pygments_lexer": "ipython3",
   "version": "3.11.3"
  }
 },
 "nbformat": 4,
 "nbformat_minor": 2
}
