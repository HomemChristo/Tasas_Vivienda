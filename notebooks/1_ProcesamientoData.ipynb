{
 "cells": [
  {
   "cell_type": "markdown",
   "metadata": {},
   "source": [
    "# **Preparacion de los datos**"
   ]
  },
  {
   "cell_type": "markdown",
   "metadata": {},
   "source": [
    "Importamos las bibliotecas generales"
   ]
  },
  {
   "cell_type": "code",
   "execution_count": 30,
   "metadata": {},
   "outputs": [],
   "source": [
    "import pandas as pd\n",
    "import os"
   ]
  },
  {
   "cell_type": "markdown",
   "metadata": {},
   "source": [
    "Cargamos los datos del dataframe de pandas e imprimimos un encabezado con los primeros 5 registros"
   ]
  },
  {
   "cell_type": "code",
   "execution_count": 31,
   "metadata": {},
   "outputs": [
    {
     "name": "stdout",
     "output_type": "stream",
     "text": [
      "   Tipo_Entidad           Nombre_Tipo_Entidad  Codigo_Entidad  \\\n",
      "0            22  INSTITUCIÓN OFICIAL ESPECIAL               8   \n",
      "1             1   BC-ESTABLECIMIENTO BANCARIO               1   \n",
      "2             1   BC-ESTABLECIMIENTO BANCARIO               7   \n",
      "3             1   BC-ESTABLECIMIENTO BANCARIO               1   \n",
      "4             1   BC-ESTABLECIMIENTO BANCARIO              13   \n",
      "\n",
      "              Nombre_Entidad Fecha_Corte Tipo_de_persona       Sexo  \\\n",
      "0  Fondo Nacional del Ahorro  27/10/2023         Natural  Masculino   \n",
      "1            Banco de Bogotá  17/11/2023         Natural  Masculino   \n",
      "2                Bancolombia  13/10/2023         Natural   Femenino   \n",
      "3            Banco de Bogotá  08/09/2023         Natural   Femenino   \n",
      "4              BBVA Colombia  21/07/2023         Natural   Femenino   \n",
      "\n",
      "  Tamaño_de_empresa Tipo_de_crédito             Tipo_de_garantía  ...  \\\n",
      "0         No aplica        Vivienda  Garantia idónea o no idónea  ...   \n",
      "1         No aplica        Vivienda  Garantia idónea o no idónea  ...   \n",
      "2         No aplica        Vivienda  Garantia idónea o no idónea  ...   \n",
      "3         No aplica        Vivienda  Garantia idónea o no idónea  ...   \n",
      "4         No aplica        Vivienda  Garantia idónea o no idónea  ...   \n",
      "\n",
      "  margen_adicional Montos_desembolsados  Numero_de_creditos_desembolsados  \\\n",
      "0              0.0           50539354.0                                 1   \n",
      "1              0.0           83953304.0                                 1   \n",
      "2              0.0           36489064.0                                 1   \n",
      "3              0.0          587105406.0                                15   \n",
      "4              0.0          750192615.0                                14   \n",
      "\n",
      "          Grupo_Etnico  Antiguedad_de_la_empresa  Tipo_de_Tasa  \\\n",
      "0  Sin información (1)              No aplica(1)            FS   \n",
      "1  Sin información (1)              No aplica(1)            FS   \n",
      "2  Sin información (1)              No aplica(1)            FS   \n",
      "3                  NaN                       NaN           NaN   \n",
      "4                  NaN                       NaN           NaN   \n",
      "\n",
      "  Rango_monto_desembolsado                Clase_deudor Codigo_CIIU  \\\n",
      "0          Hasta 135 SMLMV  Deudor nuevo en la entidad        10.0   \n",
      "1          Hasta 135 SMLMV        Deudor de la entidad        10.0   \n",
      "2          Hasta 135 SMLMV        Deudor de la entidad      4755.0   \n",
      "3                      NaN                         NaN         NaN   \n",
      "4                      NaN                         NaN         NaN   \n",
      "\n",
      "  Codigo_Municipio  \n",
      "0          52001.0  \n",
      "1          25175.0  \n",
      "2          41359.0  \n",
      "3              NaN  \n",
      "4              NaN  \n",
      "\n",
      "[5 rows x 23 columns]\n"
     ]
    }
   ],
   "source": [
    "dt_raw = pd.read_csv('../data/raw/TasasCreditoVivienda.csv')\n",
    "\n",
    "print(dt_raw.head(5))"
   ]
  },
  {
   "cell_type": "markdown",
   "metadata": {},
   "source": [
    "Guardamos nuestro dataset sin las columnas que no presentan informacion relevante para nuestro proyecto"
   ]
  },
  {
   "cell_type": "code",
   "execution_count": 32,
   "metadata": {},
   "outputs": [
    {
     "name": "stdout",
     "output_type": "stream",
     "text": [
      "            Nombre_Tipo_Entidad             Nombre_Entidad       Sexo  \\\n",
      "0  INSTITUCIÓN OFICIAL ESPECIAL  Fondo Nacional del Ahorro  Masculino   \n",
      "1   BC-ESTABLECIMIENTO BANCARIO            Banco de Bogotá  Masculino   \n",
      "2   BC-ESTABLECIMIENTO BANCARIO                Bancolombia   Femenino   \n",
      "3   BC-ESTABLECIMIENTO BANCARIO            Banco de Bogotá   Femenino   \n",
      "4   BC-ESTABLECIMIENTO BANCARIO              BBVA Colombia   Femenino   \n",
      "\n",
      "                                 Producto de crédito  \\\n",
      "0  Adquisición de vivienda vis (colocación en pesos)   \n",
      "1  Adquisición de vivienda vis (colocación en pesos)   \n",
      "2    Adquisición de vivienda vis (colocación en uvr)   \n",
      "3  Adquisición de vivienda vis (colocación en pesos)   \n",
      "4  Adquisición de vivienda vis (colocación en pesos)   \n",
      "\n",
      "                 Plazo de crédito  Tasa_efectiva_promedio_ponderada  \\\n",
      "0  Más de 15 años y hasta 20 años                              8.30   \n",
      "1  Más de 15 años y hasta 20 años                             15.12   \n",
      "2                A más de 20 años                              8.80   \n",
      "3   Más de 7 años y hasta 15 años                             15.02   \n",
      "4   Más de 7 años y hasta 15 años                             14.29   \n",
      "\n",
      "   Montos_desembolsados  Numero_de_creditos_desembolsados Tipo_de_Tasa  \\\n",
      "0            50539354.0                                 1           FS   \n",
      "1            83953304.0                                 1           FS   \n",
      "2            36489064.0                                 1           FS   \n",
      "3           587105406.0                                15          NaN   \n",
      "4           750192615.0                                14          NaN   \n",
      "\n",
      "  Rango_monto_desembolsado                Clase_deudor  \n",
      "0          Hasta 135 SMLMV  Deudor nuevo en la entidad  \n",
      "1          Hasta 135 SMLMV        Deudor de la entidad  \n",
      "2          Hasta 135 SMLMV        Deudor de la entidad  \n",
      "3                      NaN                         NaN  \n",
      "4                      NaN                         NaN  \n"
     ]
    }
   ],
   "source": [
    "dt_processed = dt_raw.drop(['Tipo_Entidad','Codigo_Entidad','Fecha_Corte', 'Tamaño_de_empresa', 'Tipo_de_garantía', 'margen_adicional', 'Tipo_de_crédito','Antiguedad_de_la_empresa','Codigo_CIIU','Codigo_Municipio','Grupo_Etnico','Tipo_de_persona'], axis=1)\n",
    "\n",
    "print(dt_processed.head(5))"
   ]
  },
  {
   "cell_type": "markdown",
   "metadata": {},
   "source": [
    "Corroboramos que tipo de informacion tenemos, para luego realizar un describe de las columnas que contienen datos cuantitativos para poder darnos una mejor idea de la información que esteremos manejando"
   ]
  },
  {
   "cell_type": "code",
   "execution_count": 33,
   "metadata": {},
   "outputs": [
    {
     "name": "stdout",
     "output_type": "stream",
     "text": [
      "Nombre_Tipo_Entidad                  object\n",
      "Nombre_Entidad                       object\n",
      "Sexo                                 object\n",
      "Producto de crédito                  object\n",
      "Plazo de crédito                     object\n",
      "Tasa_efectiva_promedio_ponderada    float64\n",
      "Montos_desembolsados                float64\n",
      "Numero_de_creditos_desembolsados      int64\n",
      "Tipo_de_Tasa                         object\n",
      "Rango_monto_desembolsado             object\n",
      "Clase_deudor                         object\n",
      "dtype: object\n"
     ]
    }
   ],
   "source": [
    "df = pd.DataFrame(dt_processed)\n",
    "\n",
    "print(df.dtypes)"
   ]
  },
  {
   "cell_type": "code",
   "execution_count": 34,
   "metadata": {},
   "outputs": [
    {
     "name": "stdout",
     "output_type": "stream",
     "text": [
      "       Tasa_efectiva_promedio_ponderada  Montos_desembolsados  \\\n",
      "count                      54242.000000          5.424200e+04   \n",
      "mean                          14.719350          3.884510e+08   \n",
      "std                            4.540355          1.288275e+09   \n",
      "min                            0.000000          1.000000e+05   \n",
      "25%                           13.250000          7.000000e+07   \n",
      "50%                           16.000000          1.200000e+08   \n",
      "75%                           17.910000          2.500000e+08   \n",
      "max                           25.720000          6.383443e+10   \n",
      "\n",
      "       Numero_de_creditos_desembolsados  \n",
      "count                      54242.000000  \n",
      "mean                           3.500147  \n",
      "std                           14.472983  \n",
      "min                            1.000000  \n",
      "25%                            1.000000  \n",
      "50%                            1.000000  \n",
      "75%                            2.000000  \n",
      "max                         1022.000000  \n"
     ]
    }
   ],
   "source": [
    "print(df.describe())"
   ]
  },
  {
   "cell_type": "markdown",
   "metadata": {},
   "source": [
    "Una vez verificada toda la data procedemos a guardar nuestro conjunto de datos procesado en el directorio correspondiente"
   ]
  },
  {
   "cell_type": "code",
   "execution_count": 35,
   "metadata": {},
   "outputs": [
    {
     "data": {
      "text/plain": [
       "'c:\\\\Users\\\\Jhoan\\\\Documents\\\\Cursos\\\\Platzi\\\\Data Science\\\\Proyectos Data Science\\\\TasasCreditoVivienda\\\\notebooks'"
      ]
     },
     "execution_count": 35,
     "metadata": {},
     "output_type": "execute_result"
    }
   ],
   "source": [
    "os.getcwd()"
   ]
  },
  {
   "cell_type": "code",
   "execution_count": 36,
   "metadata": {},
   "outputs": [],
   "source": [
    "df.to_csv('../data/processed/TasasCreditoViviendaClean.csv', index= None)"
   ]
  },
  {
   "cell_type": "code",
   "execution_count": null,
   "metadata": {},
   "outputs": [],
   "source": []
  }
 ],
 "metadata": {
  "kernelspec": {
   "display_name": "Python 3",
   "language": "python",
   "name": "python3"
  },
  "language_info": {
   "codemirror_mode": {
    "name": "ipython",
    "version": 3
   },
   "file_extension": ".py",
   "mimetype": "text/x-python",
   "name": "python",
   "nbconvert_exporter": "python",
   "pygments_lexer": "ipython3",
   "version": "3.11.3"
  }
 },
 "nbformat": 4,
 "nbformat_minor": 2
}
