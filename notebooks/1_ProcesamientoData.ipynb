{
 "cells": [
  {
   "cell_type": "markdown",
   "metadata": {},
   "source": [
    "# **Preparacion de los datos**"
   ]
  },
  {
   "cell_type": "markdown",
   "metadata": {},
   "source": [
    "Importamos las bibliotecas generales"
   ]
  },
  {
   "cell_type": "code",
   "execution_count": 10,
   "metadata": {},
   "outputs": [],
   "source": [
    "import pandas as pd\n",
    "import os"
   ]
  },
  {
   "cell_type": "markdown",
   "metadata": {},
   "source": [
    "Cargamos los datos del dataframe de pandas y revisamos las categorias que contiene el dataset"
   ]
  },
  {
   "cell_type": "code",
   "execution_count": 11,
   "metadata": {},
   "outputs": [
    {
     "data": {
      "text/plain": [
       "Tipo_Entidad                          int64\n",
       "Nombre_Tipo_Entidad                  object\n",
       "Codigo_Entidad                        int64\n",
       "Nombre_Entidad                       object\n",
       "Fecha_Corte                          object\n",
       "Tipo_de_persona                      object\n",
       "Sexo                                 object\n",
       "Tamaño_de_empresa                    object\n",
       "Tipo_de_crédito                      object\n",
       "Tipo_de_garantía                     object\n",
       "Producto de crédito                  object\n",
       "Plazo de crédito                     object\n",
       "Tasa_efectiva_promedio_ponderada    float64\n",
       "margen_adicional                    float64\n",
       "Montos_desembolsados                float64\n",
       "Numero_de_creditos_desembolsados      int64\n",
       "Grupo_Etnico                         object\n",
       "Antiguedad_de_la_empresa             object\n",
       "Tipo_de_Tasa                         object\n",
       "Rango_monto_desembolsado             object\n",
       "Clase_deudor                         object\n",
       "Codigo_CIIU                         float64\n",
       "Codigo_Municipio                    float64\n",
       "dtype: object"
      ]
     },
     "execution_count": 11,
     "metadata": {},
     "output_type": "execute_result"
    }
   ],
   "source": [
    "df_raw = pd.read_csv('../data/raw/TasasCreditoVivienda.csv')\n",
    "\n",
    "df_raw.dtypes"
   ]
  },
  {
   "cell_type": "markdown",
   "metadata": {},
   "source": [
    "Guardamos nuestro dataset sin las columnas que no presentan informacion relevante para nuestro proyecto"
   ]
  },
  {
   "cell_type": "code",
   "execution_count": 12,
   "metadata": {},
   "outputs": [
    {
     "name": "stderr",
     "output_type": "stream",
     "text": [
      "C:\\Users\\Jhoan\\AppData\\Local\\Temp\\ipykernel_27656\\2984903529.py:2: UserWarning: Parsing dates in %d/%m/%Y format when dayfirst=False (the default) was specified. Pass `dayfirst=True` or specify a format to silence this warning.\n",
      "  df_processed['Fecha_Corte'] = pd.to_datetime(df_processed['Fecha_Corte'])\n"
     ]
    },
    {
     "data": {
      "text/plain": [
       "Nombre_Tipo_Entidad                         object\n",
       "Nombre_Entidad                              object\n",
       "Fecha_Corte                         datetime64[ns]\n",
       "Sexo                                        object\n",
       "Producto de crédito                         object\n",
       "Plazo de crédito                            object\n",
       "Tasa_efectiva_promedio_ponderada           float64\n",
       "Montos_desembolsados                       float64\n",
       "Numero_de_creditos_desembolsados             int64\n",
       "Tipo_de_Tasa                                object\n",
       "Rango_monto_desembolsado                    object\n",
       "Clase_deudor                                object\n",
       "dtype: object"
      ]
     },
     "execution_count": 12,
     "metadata": {},
     "output_type": "execute_result"
    }
   ],
   "source": [
    "df_processed = df_raw.drop(['Tipo_Entidad','Codigo_Entidad', 'Tamaño_de_empresa', 'Tipo_de_garantía', 'margen_adicional', 'Tipo_de_crédito','Antiguedad_de_la_empresa','Codigo_CIIU','Codigo_Municipio','Grupo_Etnico','Tipo_de_persona'], axis=1)\n",
    "df_processed['Fecha_Corte'] = pd.to_datetime(df_processed['Fecha_Corte'])\n",
    "df_processed.dtypes"
   ]
  },
  {
   "cell_type": "markdown",
   "metadata": {},
   "source": [
    "Verificamos la cantidad de valores nulos que tenemos en nuestro dataset"
   ]
  },
  {
   "cell_type": "code",
   "execution_count": 13,
   "metadata": {},
   "outputs": [
    {
     "data": {
      "text/plain": [
       "Nombre_Tipo_Entidad                     0\n",
       "Nombre_Entidad                          0\n",
       "Fecha_Corte                             0\n",
       "Sexo                                    0\n",
       "Producto de crédito                     0\n",
       "Plazo de crédito                        0\n",
       "Tasa_efectiva_promedio_ponderada        0\n",
       "Montos_desembolsados                    0\n",
       "Numero_de_creditos_desembolsados        0\n",
       "Tipo_de_Tasa                        10982\n",
       "Rango_monto_desembolsado            10982\n",
       "Clase_deudor                        10982\n",
       "dtype: int64"
      ]
     },
     "execution_count": 13,
     "metadata": {},
     "output_type": "execute_result"
    }
   ],
   "source": [
    "df_processed.isnull().sum()"
   ]
  },
  {
   "cell_type": "markdown",
   "metadata": {},
   "source": [
    "Como podemos observar, existen la misma cantidad de valores nulos en tres de nuestras columnas, por lo que resulta necesario eliminar estas filas ya que no poseen informacion valiosa para nuestro proyecto"
   ]
  },
  {
   "cell_type": "code",
   "execution_count": 14,
   "metadata": {},
   "outputs": [
    {
     "data": {
      "text/plain": [
       "Nombre_Tipo_Entidad                 0\n",
       "Nombre_Entidad                      0\n",
       "Fecha_Corte                         0\n",
       "Sexo                                0\n",
       "Producto de crédito                 0\n",
       "Plazo de crédito                    0\n",
       "Tasa_efectiva_promedio_ponderada    0\n",
       "Montos_desembolsados                0\n",
       "Numero_de_creditos_desembolsados    0\n",
       "Tipo_de_Tasa                        0\n",
       "Rango_monto_desembolsado            0\n",
       "Clase_deudor                        0\n",
       "dtype: int64"
      ]
     },
     "execution_count": 14,
     "metadata": {},
     "output_type": "execute_result"
    }
   ],
   "source": [
    "df_processed.dropna(inplace=True)\n",
    "df_processed.isnull().sum()"
   ]
  },
  {
   "cell_type": "markdown",
   "metadata": {},
   "source": [
    "Corroboramos que tipo de informacion tenemos, para luego realizar un describe de las columnas que contienen datos cuantitativos para poder darnos una mejor idea de la información que esteremos manejando"
   ]
  },
  {
   "cell_type": "code",
   "execution_count": 15,
   "metadata": {},
   "outputs": [
    {
     "name": "stdout",
     "output_type": "stream",
     "text": [
      "                         Fecha_Corte  Tasa_efectiva_promedio_ponderada  \\\n",
      "count                          43260                      43260.000000   \n",
      "mean   2023-11-16 15:32:44.271844608                         14.118058   \n",
      "min              2023-09-29 00:00:00                          0.000000   \n",
      "25%              2023-10-20 00:00:00                         11.400000   \n",
      "50%              2023-11-17 00:00:00                         15.040000   \n",
      "75%              2023-12-15 00:00:00                         17.550000   \n",
      "max              2024-01-05 00:00:00                         24.030000   \n",
      "std                              NaN                          4.353965   \n",
      "\n",
      "       Montos_desembolsados  Numero_de_creditos_desembolsados  \n",
      "count          4.326000e+04                      43260.000000  \n",
      "mean           1.719089e+08                          1.585160  \n",
      "min            2.313090e+05                          1.000000  \n",
      "25%            6.353763e+07                          1.000000  \n",
      "50%            1.075000e+08                          1.000000  \n",
      "75%            1.990370e+08                          1.000000  \n",
      "max            8.956500e+09                         88.000000  \n",
      "std            2.456851e+08                          2.449373  \n"
     ]
    }
   ],
   "source": [
    "df = pd.DataFrame(df_processed)\n",
    "print(df.describe())"
   ]
  },
  {
   "cell_type": "markdown",
   "metadata": {},
   "source": [
    "Una vez verificada toda la data procedemos a guardar nuestro conjunto de datos procesado en el directorio correspondiente"
   ]
  },
  {
   "cell_type": "code",
   "execution_count": 16,
   "metadata": {},
   "outputs": [
    {
     "data": {
      "text/plain": [
       "'c:\\\\Users\\\\Jhoan\\\\Documents\\\\Cursos\\\\Platzi\\\\Data Science\\\\Proyectos Data Science\\\\TasasCreditoVivienda\\\\notebooks'"
      ]
     },
     "execution_count": 16,
     "metadata": {},
     "output_type": "execute_result"
    }
   ],
   "source": [
    "os.getcwd()"
   ]
  },
  {
   "cell_type": "code",
   "execution_count": 17,
   "metadata": {},
   "outputs": [],
   "source": [
    "df.to_csv('../data/processed/TasasCreditoViviendaClean.csv', index= None)"
   ]
  },
  {
   "cell_type": "code",
   "execution_count": null,
   "metadata": {},
   "outputs": [],
   "source": []
  }
 ],
 "metadata": {
  "kernelspec": {
   "display_name": "Python 3",
   "language": "python",
   "name": "python3"
  },
  "language_info": {
   "codemirror_mode": {
    "name": "ipython",
    "version": 3
   },
   "file_extension": ".py",
   "mimetype": "text/x-python",
   "name": "python",
   "nbconvert_exporter": "python",
   "pygments_lexer": "ipython3",
   "version": "3.11.3"
  }
 },
 "nbformat": 4,
 "nbformat_minor": 2
}
